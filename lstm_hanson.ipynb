{
 "cells": [
  {
   "cell_type": "markdown",
   "metadata": {},
   "source": [
    "### In this hands on you will build a model that once trained on a peice of text data can generate its own sequnce of words in a similar fashion as in trained data.\n",
    "\n",
    "- Follow the instructions provided for each cell and and code accordingly. \n",
    "- In order to run the cell press shift+enter.\n",
    "- make sure you have run all the cells before submitting the hands on"
   ]
  },
  {
   "cell_type": "markdown",
   "metadata": {},
   "source": [
    "### Run the below cell to import necessary packages"
   ]
  },
  {
   "cell_type": "code",
   "execution_count": 1,
   "metadata": {},
   "outputs": [
    {
     "name": "stderr",
     "output_type": "stream",
     "text": [
      "/home/shreyasrbhat/anaconda3/lib/python3.6/site-packages/h5py/__init__.py:36: FutureWarning: Conversion of the second argument of issubdtype from `float` to `np.floating` is deprecated. In future, it will be treated as `np.float64 == np.dtype(float).type`.\n",
      "  from ._conv import register_converters as _register_converters\n",
      "Using TensorFlow backend.\n"
     ]
    }
   ],
   "source": [
    "import numpy as np\n",
    "import pandas as pd\n",
    "from keras.models import Sequential\n",
    "from keras.layers import Dense\n",
    "from keras.layers import Dropout\n",
    "from keras.layers import LSTM\n",
    "from keras.utils import np_utils"
   ]
  },
  {
   "cell_type": "markdown",
   "metadata": {},
   "source": [
    "### Read the text data from story.txt file and split the text into seperate tokens\n",
    "\n",
    "### Expected output:\n",
    "    array(['long', 'ago', ',', 'the', 'mice', 'had', 'a', 'general',\n",
    "       'council', 'to']"
   ]
  },
  {
   "cell_type": "code",
   "execution_count": 5,
   "metadata": {},
   "outputs": [
    {
     "data": {
      "text/plain": [
       "array(['long', 'ago', ',', 'the', 'mice', 'had', 'a', 'general',\n",
       "       'council', 'to'], dtype='<U13')"
      ]
     },
     "execution_count": 5,
     "metadata": {},
     "output_type": "execute_result"
    }
   ],
   "source": [
    "### Start code here\n",
    "def read_data(fname):\n",
    "    with open(fname) as f:\n",
    "        content = f.readlines()\n",
    "    content = [x.strip() for x in content]\n",
    "    content = [word for i in range(len(content)) for word in content[i].split()]\n",
    "    content = np.array(content)\n",
    "    return content\n",
    "training_data = read_data(\"story.txt\")\n",
    "###End code\n",
    "training_data[:10]"
   ]
  },
  {
   "cell_type": "markdown",
   "metadata": {},
   "source": [
    "### Take the unique tokens in training_data nas sort them alphabetical order and assign the sorted list to variable words\n",
    "### create dictionary ind_to_word to map index to word\n",
    "### create another dictionary word_to_ind to reverse map word to their respective index."
   ]
  },
  {
   "cell_type": "code",
   "execution_count": 33,
   "metadata": {},
   "outputs": [
    {
     "name": "stdout",
     "output_type": "stream",
     "text": [
      "words:  [',', '.', '?', 'a', 'about', 'ago', 'agree', 'all', 'always', 'an'] \n",
      "\n",
      "index_to_words:  [(0, ','), (1, '.'), (2, '?'), (3, 'a'), (4, 'about'), (5, 'ago'), (6, 'agree'), (7, 'all'), (8, 'always'), (9, 'an')] \n",
      "\n",
      "word_to_index:  [(',', 0), ('.', 1), ('?', 2), ('a', 3), ('about', 4), ('ago', 5), ('agree', 6), ('all', 7), ('always', 8), ('an', 9)] \n",
      "\n"
     ]
    }
   ],
   "source": [
    "####Start code here\n",
    "words = sorted(list(set(training_data)))\n",
    "ind_to_word = {n:word for n, word in enumerate(words)}\n",
    "word_to_ind = {word:n for n, word in enumerate(words)}\n",
    "###End code\n",
    "print(\"words: \", words[:10], \"\\n\")\n",
    "print(\"index_to_words: \", list(ind_to_word.items())[:10], \"\\n\")\n",
    "print(\"word_to_index: \", list(word_to_ind.items())[:10], \"\\n\")"
   ]
  },
  {
   "cell_type": "markdown",
   "metadata": {},
   "source": [
    "### write a function to generate training dataset \n",
    "    - parameters: dataset: orginal dataset\n",
    "                  look_back: the window size that tells the number of previous values in the series to look for to                   predict the next one.\n",
    "    - returns: feature and target arrays\n",
    "    \n",
    "example: \n",
    "         for window size 1:\n",
    "         dataset = [1,2,3,4]  \n",
    "         feature = [[1],[2],[3]]    \n",
    "         target = [2,3,4]  \n",
    "         \n",
    "         for window size 2:\n",
    "         feature = [[1,2],[2,3]]  \n",
    "         target = [3,4]  \n",
    "### Expected output when you when you call generate_dataset on training_data and look_back = 10 :\n",
    "input:  [[48, 5, 0, 85, 56, 37, 3, 35, 28, 92], [5, 0, 85, 56, 37, 3, 35, 28, 92, 25], [0, 85, 56, 37, 3, 35, 28, 92, 25, 102]]  \n",
    "labels:  [25, 102, 53]\n"
   ]
  },
  {
   "cell_type": "code",
   "execution_count": 29,
   "metadata": {},
   "outputs": [
    {
     "name": "stdout",
     "output_type": "stream",
     "text": [
      "input:  [[48, 5, 0, 85, 56, 37, 3, 35, 28, 92], [5, 0, 85, 56, 37, 3, 35, 28, 92, 25], [0, 85, 56, 37, 3, 35, 28, 92, 25, 102]]\n",
      "labels:  [25, 102, 53]\n"
     ]
    }
   ],
   "source": [
    "def generate_dataset(dataset, look_back=10):\n",
    "\n",
    "    for i in range(0, len(dataset) - look_back, 1):\n",
    "        sequence = dataset[i:i+look_back]\n",
    "        label = dataset[i+look_back]\n",
    "        inputs.append([word_to_ind[word] for word in sequence])\n",
    "        labels.append(word_to_ind[label])\n",
    "\n",
    "    return inputs, labels\n",
    "inputs, labels = generate_dataset(training_data, 10)\n",
    "print(\"input: \", inputs[:3])\n",
    "print(\"labels: \", labels[:3])"
   ]
  },
  {
   "cell_type": "markdown",
   "metadata": {},
   "source": [
    "### reshape the input data into (num_samples, look_back , 1)"
   ]
  },
  {
   "cell_type": "code",
   "execution_count": 35,
   "metadata": {},
   "outputs": [],
   "source": [
    "X_modified = np.reshape(inputs, (len(inputs), seq_length, 1))\n",
    "X_modified = X_modified / float(len(words))\n",
    "Y_modified = np_utils.to_categorical(labels)"
   ]
  },
  {
   "cell_type": "markdown",
   "metadata": {},
   "source": [
    "### Using keras Sequential() class create a model having two LSTM block and one fully connected  layer with activation softmax\n",
    "### apply dropout with probability p = 0.2 between the layers of LSTM\n",
    "### compile the model with categorical_crossentropy loss and  adam optimizer\n",
    "\n",
    "### Expected output\n",
    "<img src=\"lstm.png\">"
   ]
  },
  {
   "cell_type": "code",
   "execution_count": 42,
   "metadata": {},
   "outputs": [
    {
     "name": "stdout",
     "output_type": "stream",
     "text": [
      "_________________________________________________________________\n",
      "Layer (type)                 Output Shape              Param #   \n",
      "=================================================================\n",
      "lstm_3 (LSTM)                (None, 10, 400)           643200    \n",
      "_________________________________________________________________\n",
      "dropout_3 (Dropout)          (None, 10, 400)           0         \n",
      "_________________________________________________________________\n",
      "lstm_4 (LSTM)                (None, 400)               1281600   \n",
      "_________________________________________________________________\n",
      "dropout_4 (Dropout)          (None, 400)               0         \n",
      "_________________________________________________________________\n",
      "dense_2 (Dense)              (None, 112)               44912     \n",
      "=================================================================\n",
      "Total params: 1,969,712\n",
      "Trainable params: 1,969,712\n",
      "Non-trainable params: 0\n",
      "_________________________________________________________________\n"
     ]
    }
   ],
   "source": [
    "np.random.seed(51)\n",
    "model = Sequential()\n",
    "model.add(LSTM(400, input_shape=(X_modified.shape[1], X_modified.shape[2]), return_sequences=True))\n",
    "model.add(Dropout(0.2))\n",
    "model.add(LSTM(400))\n",
    "model.add(Dropout(0.2))\n",
    "model.add(Dense(Y_modified.shape[1], activation='softmax'))\n",
    "\n",
    "model.compile(loss='categorical_crossentropy', optimizer='adam')\n",
    "model.summary()"
   ]
  },
  {
   "cell_type": "markdown",
   "metadata": {},
   "source": [
    "### Run model.fit() on train data with features as X_modified and target as Y_modified for 30 epoches and batch_size = 10"
   ]
  },
  {
   "cell_type": "code",
   "execution_count": 45,
   "metadata": {},
   "outputs": [
    {
     "name": "stdout",
     "output_type": "stream",
     "text": [
      "Epoch 1/60\n",
      "1552/1552 [==============================] - 6s 4ms/step - loss: 0.0735\n",
      "Epoch 2/60\n",
      "1552/1552 [==============================] - 6s 4ms/step - loss: 0.0622\n",
      "Epoch 3/60\n",
      "1552/1552 [==============================] - 6s 4ms/step - loss: 0.0503\n",
      "Epoch 4/60\n",
      "1552/1552 [==============================] - 6s 4ms/step - loss: 0.0408\n",
      "Epoch 5/60\n",
      "1552/1552 [==============================] - 6s 4ms/step - loss: 0.0561\n",
      "Epoch 6/60\n",
      "1552/1552 [==============================] - 6s 4ms/step - loss: 0.0267\n",
      "Epoch 7/60\n",
      "1552/1552 [==============================] - 6s 4ms/step - loss: 0.0447\n",
      "Epoch 8/60\n",
      "1552/1552 [==============================] - 6s 4ms/step - loss: 0.2962\n",
      "Epoch 9/60\n",
      "1552/1552 [==============================] - 6s 4ms/step - loss: 0.0841\n",
      "Epoch 10/60\n",
      "1552/1552 [==============================] - 6s 4ms/step - loss: 0.0333\n",
      "Epoch 11/60\n",
      "1552/1552 [==============================] - 6s 4ms/step - loss: 0.0211\n",
      "Epoch 12/60\n",
      "1552/1552 [==============================] - 6s 4ms/step - loss: 0.0171\n",
      "Epoch 13/60\n",
      "1552/1552 [==============================] - 6s 4ms/step - loss: 0.0334\n",
      "Epoch 14/60\n",
      "1552/1552 [==============================] - 6s 4ms/step - loss: 0.0178\n",
      "Epoch 15/60\n",
      "1552/1552 [==============================] - 6s 4ms/step - loss: 0.0137\n",
      "Epoch 16/60\n",
      "1552/1552 [==============================] - 7s 4ms/step - loss: 0.0130\n",
      "Epoch 17/60\n",
      "1552/1552 [==============================] - 6s 4ms/step - loss: 0.0178\n",
      "Epoch 18/60\n",
      "1552/1552 [==============================] - 7s 4ms/step - loss: 0.0263\n",
      "Epoch 19/60\n",
      "1552/1552 [==============================] - 6s 4ms/step - loss: 0.0533\n",
      "Epoch 20/60\n",
      "1552/1552 [==============================] - 6s 4ms/step - loss: 0.0518\n",
      "Epoch 21/60\n",
      "1552/1552 [==============================] - 6s 4ms/step - loss: 0.0520\n",
      "Epoch 22/60\n",
      "1552/1552 [==============================] - 7s 4ms/step - loss: 0.0790\n",
      "Epoch 23/60\n",
      "1552/1552 [==============================] - 6s 4ms/step - loss: 0.2090\n",
      "Epoch 24/60\n",
      "1552/1552 [==============================] - 6s 4ms/step - loss: 0.1109\n",
      "Epoch 25/60\n",
      "1552/1552 [==============================] - 6s 4ms/step - loss: 0.0549\n",
      "Epoch 26/60\n",
      "1552/1552 [==============================] - 6s 4ms/step - loss: 0.0703\n",
      "Epoch 27/60\n",
      "1552/1552 [==============================] - 6s 4ms/step - loss: 0.0252\n",
      "Epoch 28/60\n",
      "1552/1552 [==============================] - 6s 4ms/step - loss: 0.0154\n",
      "Epoch 29/60\n",
      "1552/1552 [==============================] - 6s 4ms/step - loss: 0.0128\n",
      "Epoch 30/60\n",
      "1552/1552 [==============================] - 6s 4ms/step - loss: 0.0079\n",
      "Epoch 31/60\n",
      "1552/1552 [==============================] - 6s 4ms/step - loss: 0.0060\n",
      "Epoch 32/60\n",
      "1552/1552 [==============================] - 6s 4ms/step - loss: 0.0057\n",
      "Epoch 33/60\n",
      "1552/1552 [==============================] - 6s 4ms/step - loss: 0.0079\n",
      "Epoch 34/60\n",
      "1552/1552 [==============================] - 6s 4ms/step - loss: 0.0159\n",
      "Epoch 35/60\n",
      "1552/1552 [==============================] - 6s 4ms/step - loss: 0.0088\n",
      "Epoch 36/60\n",
      "1552/1552 [==============================] - 6s 4ms/step - loss: 0.0275\n",
      "Epoch 37/60\n",
      "1552/1552 [==============================] - 6s 4ms/step - loss: 0.0327\n",
      "Epoch 38/60\n",
      "1552/1552 [==============================] - 6s 4ms/step - loss: 0.0711\n",
      "Epoch 39/60\n",
      "1552/1552 [==============================] - 6s 4ms/step - loss: 0.0326\n",
      "Epoch 40/60\n",
      "1552/1552 [==============================] - 6s 4ms/step - loss: 0.0159\n",
      "Epoch 41/60\n",
      "1552/1552 [==============================] - 6s 4ms/step - loss: 0.0134\n",
      "Epoch 42/60\n",
      "1552/1552 [==============================] - 6s 4ms/step - loss: 0.0743\n",
      "Epoch 43/60\n",
      "1552/1552 [==============================] - 6s 4ms/step - loss: 0.3778\n",
      "Epoch 44/60\n",
      "1552/1552 [==============================] - 6s 4ms/step - loss: 0.3548\n",
      "Epoch 45/60\n",
      "1552/1552 [==============================] - 6s 4ms/step - loss: 0.1853\n",
      "Epoch 46/60\n",
      "1552/1552 [==============================] - 6s 4ms/step - loss: 0.0500\n",
      "Epoch 47/60\n",
      "1552/1552 [==============================] - 6s 4ms/step - loss: 0.0651\n",
      "Epoch 48/60\n",
      "1552/1552 [==============================] - 7s 5ms/step - loss: 0.0556\n",
      "Epoch 49/60\n",
      "1552/1552 [==============================] - 6s 4ms/step - loss: 0.0310\n",
      "Epoch 50/60\n",
      "1552/1552 [==============================] - 6s 4ms/step - loss: 0.0473\n",
      "Epoch 51/60\n",
      "1552/1552 [==============================] - 6s 4ms/step - loss: 0.3029\n",
      "Epoch 52/60\n",
      "1552/1552 [==============================] - 6s 4ms/step - loss: 0.1307\n",
      "Epoch 53/60\n",
      "1552/1552 [==============================] - 7s 4ms/step - loss: 0.0317\n",
      "Epoch 54/60\n",
      "1552/1552 [==============================] - 7s 4ms/step - loss: 0.0101\n",
      "Epoch 55/60\n",
      "1552/1552 [==============================] - 6s 4ms/step - loss: 0.0070\n",
      "Epoch 56/60\n",
      "1552/1552 [==============================] - 6s 4ms/step - loss: 0.0056\n",
      "Epoch 57/60\n",
      "1552/1552 [==============================] - 66758s 43s/step - loss: 0.0051\n",
      "Epoch 58/60\n",
      "1552/1552 [==============================] - 7s 4ms/step - loss: 0.0051\n",
      "Epoch 59/60\n",
      "1552/1552 [==============================] - 7s 4ms/step - loss: 0.0040\n",
      "Epoch 60/60\n",
      "1552/1552 [==============================] - 6s 4ms/step - loss: 0.0037\n"
     ]
    },
    {
     "ename": "ValueError",
     "evalue": "must have exactly one of create/read/write/append mode",
     "output_type": "error",
     "traceback": [
      "\u001b[0;31m---------------------------------------------------------------------------\u001b[0m",
      "\u001b[0;31mValueError\u001b[0m                                Traceback (most recent call last)",
      "\u001b[0;32m<ipython-input-45-72e2b9d4b626>\u001b[0m in \u001b[0;36m<module>\u001b[0;34m()\u001b[0m\n\u001b[1;32m      1\u001b[0m \u001b[0mtrain_logs\u001b[0m \u001b[0;34m=\u001b[0m \u001b[0mmodel\u001b[0m\u001b[0;34m.\u001b[0m\u001b[0mfit\u001b[0m\u001b[0;34m(\u001b[0m\u001b[0mX_modified\u001b[0m\u001b[0;34m,\u001b[0m \u001b[0mY_modified\u001b[0m\u001b[0;34m,\u001b[0m \u001b[0mepochs\u001b[0m\u001b[0;34m=\u001b[0m\u001b[0;36m60\u001b[0m\u001b[0;34m,\u001b[0m\u001b[0mbatch_size\u001b[0m\u001b[0;34m=\u001b[0m\u001b[0;36m50\u001b[0m\u001b[0;34m)\u001b[0m\u001b[0;34m\u001b[0m\u001b[0m\n\u001b[0;32m----> 2\u001b[0;31m \u001b[0;32mwith\u001b[0m \u001b[0mopen\u001b[0m\u001b[0;34m(\u001b[0m\u001b[0;34m\"output.txt\"\u001b[0m\u001b[0;34m,\u001b[0m \u001b[0;34m\"wr\"\u001b[0m\u001b[0;34m)\u001b[0m \u001b[0;32mas\u001b[0m \u001b[0mfile\u001b[0m\u001b[0;34m:\u001b[0m\u001b[0;34m\u001b[0m\u001b[0m\n\u001b[0m\u001b[1;32m      3\u001b[0m     \u001b[0mfile\u001b[0m\u001b[0;34m.\u001b[0m\u001b[0mwrite\u001b[0m\u001b[0;34m(\u001b[0m\u001b[0;34m\"train score {0:.2f}\\n\"\u001b[0m\u001b[0;34m.\u001b[0m\u001b[0mformat\u001b[0m\u001b[0;34m(\u001b[0m\u001b[0mtrainScore\u001b[0m\u001b[0;34m)\u001b[0m\u001b[0;34m)\u001b[0m\u001b[0;34m\u001b[0m\u001b[0m\n",
      "\u001b[0;31mValueError\u001b[0m: must have exactly one of create/read/write/append mode"
     ]
    }
   ],
   "source": [
    "train_logs = model.fit(X_modified, Y_modified, epochs=60,batch_size=50)\n",
    "with open(\"output.txt\", \"wr\") as file:\n",
    "    file.write(\"train score {0:.2f}\\n\".format(trainScore))"
   ]
  },
  {
   "cell_type": "markdown",
   "metadata": {},
   "source": [
    "### The below codes takes a random sequence of words and generates more sequnce using the model you trained above."
   ]
  },
  {
   "cell_type": "code",
   "execution_count": 183,
   "metadata": {},
   "outputs": [],
   "source": [
    "string_mapped = inputs[50].copy()\n",
    "full_string = [ind_to_word[value] for value in string_mapped]\n",
    "# generating characters\n",
    "for i in range(400):\n",
    "    x = np.reshape(string_mapped,(1,len(string_mapped), 1))\n",
    "    x = x / float(len(words))\n",
    "    pred_index = np.argmax(model.predict(x, verbose=0))\n",
    "    seq = [ind_to_word[value] for value in string_mapped]\n",
    "    full_string.append(ind_to_word[pred_index])\n",
    "\n",
    "    string_mapped.append(pred_index)\n",
    "    string_mapped = string_mapped[1:len(string_mapped)]\n",
    "\n",
    "    \n",
    "txt=\"\"\n",
    "for word in full_string:\n",
    "    txt = txt+\" \"+word\n",
    "print(txt)"
   ]
  },
  {
   "cell_type": "code",
   "execution_count": 44,
   "metadata": {},
   "outputs": [
    {
     "data": {
      "text/plain": [
       "0.15256281844556294"
      ]
     },
     "execution_count": 44,
     "metadata": {},
     "output_type": "execute_result"
    }
   ],
   "source": [
    "train_logs.history[\"loss\"][-1]"
   ]
  },
  {
   "cell_type": "code",
   "execution_count": null,
   "metadata": {},
   "outputs": [],
   "source": [
    "0.00026378981566108214\n"
   ]
  }
 ],
 "metadata": {
  "kernelspec": {
   "display_name": "Python 3",
   "language": "python",
   "name": "python3"
  },
  "language_info": {
   "codemirror_mode": {
    "name": "ipython",
    "version": 3
   },
   "file_extension": ".py",
   "mimetype": "text/x-python",
   "name": "python",
   "nbconvert_exporter": "python",
   "pygments_lexer": "ipython3",
   "version": "3.6.5"
  }
 },
 "nbformat": 4,
 "nbformat_minor": 2
}
